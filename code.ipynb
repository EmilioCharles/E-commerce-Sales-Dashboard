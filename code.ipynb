{
  "metadata": {
    "kernelspec": {
      "name": "python",
      "display_name": "Python (Pyodide)",
      "language": "python"
    },
    "language_info": {
      "codemirror_mode": {
        "name": "python",
        "version": 3
      },
      "file_extension": ".py",
      "mimetype": "text/x-python",
      "name": "python",
      "nbconvert_exporter": "python",
      "pygments_lexer": "ipython3",
      "version": "3.8"
    }
  },
  "nbformat_minor": 5,
  "nbformat": 4,
  "cells": [
    {
      "id": "aebbd5d5-da07-49c9-a6b2-e7bd1834f032",
      "cell_type": "code",
      "source": "import pandas as pd\ndf= pd.read_csv('Sample - Superstore.csv')\ndf.head()",
      "metadata": {
        "trusted": true
      },
      "outputs": [
        {
          "execution_count": 1,
          "output_type": "execute_result",
          "data": {
            "text/plain": "   Row ID        Order ID  Order Date   Ship Date       Ship Mode Customer ID  \\\n0       1  CA-2016-152156   11/8/2016  11/11/2016    Second Class    CG-12520   \n1       2  CA-2016-152156   11/8/2016  11/11/2016    Second Class    CG-12520   \n2       3  CA-2016-138688   6/12/2016   6/16/2016    Second Class    DV-13045   \n3       4  US-2015-108966  10/11/2015  10/18/2015  Standard Class    SO-20335   \n4       5  US-2015-108966  10/11/2015  10/18/2015  Standard Class    SO-20335   \n\n     Customer Name    Segment        Country             City  ...  \\\n0      Claire Gute   Consumer  United States        Henderson  ...   \n1      Claire Gute   Consumer  United States        Henderson  ...   \n2  Darrin Van Huff  Corporate  United States      Los Angeles  ...   \n3   Sean O'Donnell   Consumer  United States  Fort Lauderdale  ...   \n4   Sean O'Donnell   Consumer  United States  Fort Lauderdale  ...   \n\n  Postal Code  Region       Product ID         Category Sub-Category  \\\n0       42420   South  FUR-BO-10001798        Furniture    Bookcases   \n1       42420   South  FUR-CH-10000454        Furniture       Chairs   \n2       90036    West  OFF-LA-10000240  Office Supplies       Labels   \n3       33311   South  FUR-TA-10000577        Furniture       Tables   \n4       33311   South  OFF-ST-10000760  Office Supplies      Storage   \n\n                                        Product Name     Sales  Quantity  \\\n0                  Bush Somerset Collection Bookcase  261.9600         2   \n1  Hon Deluxe Fabric Upholstered Stacking Chairs,...  731.9400         3   \n2  Self-Adhesive Address Labels for Typewriters b...   14.6200         2   \n3      Bretford CR4500 Series Slim Rectangular Table  957.5775         5   \n4                     Eldon Fold 'N Roll Cart System   22.3680         2   \n\n   Discount    Profit  \n0      0.00   41.9136  \n1      0.00  219.5820  \n2      0.00    6.8714  \n3      0.45 -383.0310  \n4      0.20    2.5164  \n\n[5 rows x 21 columns]",
            "text/html": "<div>\n<style scoped>\n    .dataframe tbody tr th:only-of-type {\n        vertical-align: middle;\n    }\n\n    .dataframe tbody tr th {\n        vertical-align: top;\n    }\n\n    .dataframe thead th {\n        text-align: right;\n    }\n</style>\n<table border=\"1\" class=\"dataframe\">\n  <thead>\n    <tr style=\"text-align: right;\">\n      <th></th>\n      <th>Row ID</th>\n      <th>Order ID</th>\n      <th>Order Date</th>\n      <th>Ship Date</th>\n      <th>Ship Mode</th>\n      <th>Customer ID</th>\n      <th>Customer Name</th>\n      <th>Segment</th>\n      <th>Country</th>\n      <th>City</th>\n      <th>...</th>\n      <th>Postal Code</th>\n      <th>Region</th>\n      <th>Product ID</th>\n      <th>Category</th>\n      <th>Sub-Category</th>\n      <th>Product Name</th>\n      <th>Sales</th>\n      <th>Quantity</th>\n      <th>Discount</th>\n      <th>Profit</th>\n    </tr>\n  </thead>\n  <tbody>\n    <tr>\n      <th>0</th>\n      <td>1</td>\n      <td>CA-2016-152156</td>\n      <td>11/8/2016</td>\n      <td>11/11/2016</td>\n      <td>Second Class</td>\n      <td>CG-12520</td>\n      <td>Claire Gute</td>\n      <td>Consumer</td>\n      <td>United States</td>\n      <td>Henderson</td>\n      <td>...</td>\n      <td>42420</td>\n      <td>South</td>\n      <td>FUR-BO-10001798</td>\n      <td>Furniture</td>\n      <td>Bookcases</td>\n      <td>Bush Somerset Collection Bookcase</td>\n      <td>261.9600</td>\n      <td>2</td>\n      <td>0.00</td>\n      <td>41.9136</td>\n    </tr>\n    <tr>\n      <th>1</th>\n      <td>2</td>\n      <td>CA-2016-152156</td>\n      <td>11/8/2016</td>\n      <td>11/11/2016</td>\n      <td>Second Class</td>\n      <td>CG-12520</td>\n      <td>Claire Gute</td>\n      <td>Consumer</td>\n      <td>United States</td>\n      <td>Henderson</td>\n      <td>...</td>\n      <td>42420</td>\n      <td>South</td>\n      <td>FUR-CH-10000454</td>\n      <td>Furniture</td>\n      <td>Chairs</td>\n      <td>Hon Deluxe Fabric Upholstered Stacking Chairs,...</td>\n      <td>731.9400</td>\n      <td>3</td>\n      <td>0.00</td>\n      <td>219.5820</td>\n    </tr>\n    <tr>\n      <th>2</th>\n      <td>3</td>\n      <td>CA-2016-138688</td>\n      <td>6/12/2016</td>\n      <td>6/16/2016</td>\n      <td>Second Class</td>\n      <td>DV-13045</td>\n      <td>Darrin Van Huff</td>\n      <td>Corporate</td>\n      <td>United States</td>\n      <td>Los Angeles</td>\n      <td>...</td>\n      <td>90036</td>\n      <td>West</td>\n      <td>OFF-LA-10000240</td>\n      <td>Office Supplies</td>\n      <td>Labels</td>\n      <td>Self-Adhesive Address Labels for Typewriters b...</td>\n      <td>14.6200</td>\n      <td>2</td>\n      <td>0.00</td>\n      <td>6.8714</td>\n    </tr>\n    <tr>\n      <th>3</th>\n      <td>4</td>\n      <td>US-2015-108966</td>\n      <td>10/11/2015</td>\n      <td>10/18/2015</td>\n      <td>Standard Class</td>\n      <td>SO-20335</td>\n      <td>Sean O'Donnell</td>\n      <td>Consumer</td>\n      <td>United States</td>\n      <td>Fort Lauderdale</td>\n      <td>...</td>\n      <td>33311</td>\n      <td>South</td>\n      <td>FUR-TA-10000577</td>\n      <td>Furniture</td>\n      <td>Tables</td>\n      <td>Bretford CR4500 Series Slim Rectangular Table</td>\n      <td>957.5775</td>\n      <td>5</td>\n      <td>0.45</td>\n      <td>-383.0310</td>\n    </tr>\n    <tr>\n      <th>4</th>\n      <td>5</td>\n      <td>US-2015-108966</td>\n      <td>10/11/2015</td>\n      <td>10/18/2015</td>\n      <td>Standard Class</td>\n      <td>SO-20335</td>\n      <td>Sean O'Donnell</td>\n      <td>Consumer</td>\n      <td>United States</td>\n      <td>Fort Lauderdale</td>\n      <td>...</td>\n      <td>33311</td>\n      <td>South</td>\n      <td>OFF-ST-10000760</td>\n      <td>Office Supplies</td>\n      <td>Storage</td>\n      <td>Eldon Fold 'N Roll Cart System</td>\n      <td>22.3680</td>\n      <td>2</td>\n      <td>0.20</td>\n      <td>2.5164</td>\n    </tr>\n  </tbody>\n</table>\n<p>5 rows × 21 columns</p>\n</div>"
          },
          "metadata": {}
        }
      ],
      "execution_count": 1
    },
    {
      "id": "554b1e5a-9a26-407c-9ad6-12f48087c11c",
      "cell_type": "code",
      "source": "df.info()",
      "metadata": {
        "trusted": true
      },
      "outputs": [
        {
          "name": "stdout",
          "output_type": "stream",
          "text": "<class 'pandas.core.frame.DataFrame'>\nRangeIndex: 9994 entries, 0 to 9993\nData columns (total 21 columns):\n #   Column         Non-Null Count  Dtype  \n---  ------         --------------  -----  \n 0   Row ID         9994 non-null   int64  \n 1   Order ID       9994 non-null   object \n 2   Order Date     9994 non-null   object \n 3   Ship Date      9994 non-null   object \n 4   Ship Mode      9994 non-null   object \n 5   Customer ID    9994 non-null   object \n 6   Customer Name  9994 non-null   object \n 7   Segment        9994 non-null   object \n 8   Country        9994 non-null   object \n 9   City           9994 non-null   object \n 10  State          9994 non-null   object \n 11  Postal Code    9994 non-null   int64  \n 12  Region         9994 non-null   object \n 13  Product ID     9994 non-null   object \n 14  Category       9994 non-null   object \n 15  Sub-Category   9994 non-null   object \n 16  Product Name   9994 non-null   object \n 17  Sales          9994 non-null   float64\n 18  Quantity       9994 non-null   int64  \n 19  Discount       9994 non-null   float64\n 20  Profit         9994 non-null   float64\ndtypes: float64(3), int64(3), object(15)\nmemory usage: 1.0+ MB\n"
        }
      ],
      "execution_count": 2
    },
    {
      "id": "a3dc5ace-df95-42b1-8b48-75f087b5577a",
      "cell_type": "code",
      "source": "# Convert 'Order Date' and 'Ship Date' from text to datetime objects\ndf['Order Date'] = pd.to_datetime(df['Order Date'])\ndf['Ship Date'] = pd.to_datetime(df['Ship Date'])\n\n# Verify your changes by running .info() again\ndf.info()",
      "metadata": {
        "trusted": true
      },
      "outputs": [
        {
          "name": "stdout",
          "output_type": "stream",
          "text": "<class 'pandas.core.frame.DataFrame'>\nRangeIndex: 9994 entries, 0 to 9993\nData columns (total 21 columns):\n #   Column         Non-Null Count  Dtype         \n---  ------         --------------  -----         \n 0   Row ID         9994 non-null   int64         \n 1   Order ID       9994 non-null   object        \n 2   Order Date     9994 non-null   datetime64[ns]\n 3   Ship Date      9994 non-null   datetime64[ns]\n 4   Ship Mode      9994 non-null   object        \n 5   Customer ID    9994 non-null   object        \n 6   Customer Name  9994 non-null   object        \n 7   Segment        9994 non-null   object        \n 8   Country        9994 non-null   object        \n 9   City           9994 non-null   object        \n 10  State          9994 non-null   object        \n 11  Postal Code    9994 non-null   int64         \n 12  Region         9994 non-null   object        \n 13  Product ID     9994 non-null   object        \n 14  Category       9994 non-null   object        \n 15  Sub-Category   9994 non-null   object        \n 16  Product Name   9994 non-null   object        \n 17  Sales          9994 non-null   float64       \n 18  Quantity       9994 non-null   int64         \n 19  Discount       9994 non-null   float64       \n 20  Profit         9994 non-null   float64       \ndtypes: datetime64[ns](2), float64(3), int64(3), object(13)\nmemory usage: 1.1+ MB\n"
        }
      ],
      "execution_count": 3
    },
    {
      "id": "36f7867d-43aa-4a6f-a400-665046c860e6",
      "cell_type": "code",
      "source": "# Count the number of complete duplicate rows\nduplicate_count = df.duplicated().sum()\nprint(f\"Number of duplicate rows: {duplicate_count}\")",
      "metadata": {
        "trusted": true
      },
      "outputs": [
        {
          "name": "stdout",
          "output_type": "stream",
          "text": "Number of duplicate rows: 0\n"
        }
      ],
      "execution_count": 4
    },
    {
      "id": "b45cda37-a9f8-49c4-9ecc-c0a0b5faaac5",
      "cell_type": "code",
      "source": "# Group data by Category, sum the Profit for each, and sort it\nprofit_by_category = df.groupby('Category')['Profit'].sum().sort_values(ascending=False)\nprint(profit_by_category)",
      "metadata": {
        "trusted": true
      },
      "outputs": [
        {
          "name": "stdout",
          "output_type": "stream",
          "text": "Category\nTechnology         145454.9481\nOffice Supplies    122490.8008\nFurniture           18451.2728\nName: Profit, dtype: float64\n"
        }
      ],
      "execution_count": 5
    },
    {
      "id": "079d60fa-5223-4a30-8e10-26440dbf81c1",
      "cell_type": "code",
      "source": "# See the format of the new 'Order Date' column\nprint(df['Order Date'].head())\n\n# Based on the output, use the correct to_datetime command.\n# It will likely be one of these two:\n\n# If format is MM/DD/YYYY (e.g., 11/08/2017)\ndf['Order Date'] = pd.to_datetime(df['Order Date'], format='%m/%d/%Y')\n\n# If format is YYYY-MM-DD (e.g., 2017-11-08)\n# df['Order Date'] = pd.to_datetime(df['Order Date'])",
      "metadata": {
        "trusted": true
      },
      "outputs": [
        {
          "name": "stdout",
          "output_type": "stream",
          "text": "0   2016-11-08\n1   2016-11-08\n2   2016-06-12\n3   2015-10-11\n4   2015-10-11\nName: Order Date, dtype: datetime64[ns]\n"
        }
      ],
      "execution_count": 6
    },
    {
      "id": "40d1ea3c-895f-427c-8af9-c4ebd8c03cbe",
      "cell_type": "code",
      "source": "df['Order Year'] = df['Order Date'].dt.year\ndf['Order Month'] = df['Order Date'].dt.month",
      "metadata": {
        "trusted": true
      },
      "outputs": [],
      "execution_count": 7
    },
    {
      "id": "34235b9d-a8e9-4320-aa82-916d8b5b43ea",
      "cell_type": "code",
      "source": "# Group data by Order Year, sum the Sales for each year\nsales_by_year = df.groupby('Order Year')['Sales'].sum()\nprint(sales_by_year)",
      "metadata": {
        "trusted": true
      },
      "outputs": [
        {
          "name": "stdout",
          "output_type": "stream",
          "text": "Order Year\n2014    484247.4981\n2015    470532.5090\n2016    609205.5980\n2017    733215.2552\nName: Sales, dtype: float64\n"
        }
      ],
      "execution_count": 8
    },
    {
      "id": "338f8475-08c0-4714-a3dd-d45f9760189d",
      "cell_type": "code",
      "source": "# Group by State, sum the Sales, sort descending, and take the top 10\ntop_10_states = df.groupby('State')['Sales'].sum().sort_values(ascending=False).head(10)\nprint(top_10_states)",
      "metadata": {
        "trusted": true
      },
      "outputs": [
        {
          "name": "stdout",
          "output_type": "stream",
          "text": "State\nCalifornia      457687.6315\nNew York        310876.2710\nTexas           170188.0458\nWashington      138641.2700\nPennsylvania    116511.9140\nFlorida          89473.7080\nIllinois         80166.1010\nOhio             78258.1360\nMichigan         76269.6140\nVirginia         70636.7200\nName: Sales, dtype: float64\n"
        }
      ],
      "execution_count": 9
    },
    {
      "id": "e9320a84-cbe9-4812-b24d-3c9f40a4050d",
      "cell_type": "code",
      "source": "# Save the cleaned and feature-engineered DataFrame to a new CSV file\ndf.to_csv('cleaned_superstore_sales.csv', index=False)",
      "metadata": {
        "trusted": true
      },
      "outputs": [],
      "execution_count": 10
    },
    {
      "id": "fd491162-26fa-471a-80ee-3dc177d11c4f",
      "cell_type": "code",
      "source": "",
      "metadata": {
        "trusted": true
      },
      "outputs": [],
      "execution_count": null
    }
  ]
}